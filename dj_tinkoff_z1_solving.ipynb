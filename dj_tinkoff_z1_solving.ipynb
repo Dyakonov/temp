{
 "cells": [
  {
   "cell_type": "markdown",
   "metadata": {
    "collapsed": true
   },
   "source": [
    "## Решение задачи 1 booster-tinkoff\n",
    "\n",
    "2017, Александр Дьяконов\n",
    "\n",
    "https://alexanderdyakonov.wordpress.com/"
   ]
  },
  {
   "cell_type": "code",
   "execution_count": 16,
   "metadata": {
    "collapsed": false
   },
   "outputs": [
    {
     "name": "stdout",
     "output_type": "stream",
     "text": [
      "Populating the interactive namespace from numpy and matplotlib\n"
     ]
    }
   ],
   "source": [
    "# подгружаем все нужные пакеты\n",
    "import pandas as pd\n",
    "import numpy as np\n",
    "\n",
    "\n",
    "# для встроенных картинок\n",
    "%pylab inline\n",
    "# чуть покрасивше картинки:\n",
    "pd.set_option('display.mpl_style', 'default')\n",
    "figsize(12, 9)\n",
    "\n",
    "import warnings\n",
    "warnings.filterwarnings(\"ignore\")\n",
    "\n",
    "#plt.rcParams['figure.figsize'] = 10, 7.5\n",
    "#plt.rcParams['axes.grid'] = True\n",
    "pd.set_option('display.max_columns', None)\n",
    "import matplotlib.pyplot as plt\n",
    "\n",
    "import matplotlib as mpl\n",
    "mpl.rcParams['font.family'] = 'Ubuntu'\n",
    "\n",
    "plt.rc('text', usetex=False)\n",
    "plt.rc('font', family='serif')\n",
    "plt.rc('font', weight='bold')\n",
    "plt.rc('xtick', labelsize=14) \n",
    "plt.rc('ytick', labelsize=14)\n",
    "\n",
    "# чтобы был русский шрифт\n",
    "from matplotlib import rc\n",
    " \n",
    "font = {'family': 'Droid Sans',\n",
    "        'weight': 'normal'}\n",
    "rc('font', **font)"
   ]
  },
  {
   "cell_type": "code",
   "execution_count": 18,
   "metadata": {
    "collapsed": false
   },
   "outputs": [
    {
     "name": "stdout",
     "output_type": "stream",
     "text": [
      "(262686, 14)\n"
     ]
    },
    {
     "data": {
      "text/html": [
       "<div>\n",
       "<table border=\"1\" class=\"dataframe\">\n",
       "  <thead>\n",
       "    <tr style=\"text-align: right;\">\n",
       "      <th></th>\n",
       "      <th>gender</th>\n",
       "      <th>age</th>\n",
       "      <th>marital_status</th>\n",
       "      <th>job_position</th>\n",
       "      <th>credit_sum</th>\n",
       "      <th>credit_month</th>\n",
       "      <th>tariff_id</th>\n",
       "      <th>score_shk</th>\n",
       "      <th>education</th>\n",
       "      <th>living_region</th>\n",
       "      <th>monthly_income</th>\n",
       "      <th>credit_count</th>\n",
       "      <th>overdue_credit_count</th>\n",
       "      <th>open_account_flg</th>\n",
       "    </tr>\n",
       "  </thead>\n",
       "  <tbody>\n",
       "    <tr>\n",
       "      <th>0</th>\n",
       "      <td>M</td>\n",
       "      <td>48</td>\n",
       "      <td>MAR</td>\n",
       "      <td>UMN</td>\n",
       "      <td>59998.00</td>\n",
       "      <td>10</td>\n",
       "      <td>1.6</td>\n",
       "      <td>0.770249</td>\n",
       "      <td>GRD</td>\n",
       "      <td>КРАСНОДАРСКИЙ КРАЙ</td>\n",
       "      <td>30000.0</td>\n",
       "      <td>1.0</td>\n",
       "      <td>1.0</td>\n",
       "      <td>0.0</td>\n",
       "    </tr>\n",
       "    <tr>\n",
       "      <th>1</th>\n",
       "      <td>F</td>\n",
       "      <td>28</td>\n",
       "      <td>MAR</td>\n",
       "      <td>UMN</td>\n",
       "      <td>10889.00</td>\n",
       "      <td>6</td>\n",
       "      <td>1.1</td>\n",
       "      <td>0.248514</td>\n",
       "      <td>GRD</td>\n",
       "      <td>МОСКВА</td>\n",
       "      <td>43000.0</td>\n",
       "      <td>2.0</td>\n",
       "      <td>0.0</td>\n",
       "      <td>0.0</td>\n",
       "    </tr>\n",
       "    <tr>\n",
       "      <th>2</th>\n",
       "      <td>M</td>\n",
       "      <td>32</td>\n",
       "      <td>MAR</td>\n",
       "      <td>SPC</td>\n",
       "      <td>10728.00</td>\n",
       "      <td>12</td>\n",
       "      <td>1.1</td>\n",
       "      <td>0.459589</td>\n",
       "      <td>SCH</td>\n",
       "      <td>ОБЛ САРАТОВСКАЯ</td>\n",
       "      <td>23000.0</td>\n",
       "      <td>5.0</td>\n",
       "      <td>0.0</td>\n",
       "      <td>0.0</td>\n",
       "    </tr>\n",
       "    <tr>\n",
       "      <th>3</th>\n",
       "      <td>F</td>\n",
       "      <td>27</td>\n",
       "      <td>DIV</td>\n",
       "      <td>SPC</td>\n",
       "      <td>12009.09</td>\n",
       "      <td>12</td>\n",
       "      <td>1.1</td>\n",
       "      <td>0.362536</td>\n",
       "      <td>GRD</td>\n",
       "      <td>ОБЛ ВОЛГОГРАДСКАЯ</td>\n",
       "      <td>17000.0</td>\n",
       "      <td>2.0</td>\n",
       "      <td>0.0</td>\n",
       "      <td>0.0</td>\n",
       "    </tr>\n",
       "    <tr>\n",
       "      <th>4</th>\n",
       "      <td>M</td>\n",
       "      <td>45</td>\n",
       "      <td>MAR</td>\n",
       "      <td>SPC</td>\n",
       "      <td>16908.89</td>\n",
       "      <td>10</td>\n",
       "      <td>1.1</td>\n",
       "      <td>0.421385</td>\n",
       "      <td>SCH</td>\n",
       "      <td>ЧЕЛЯБИНСКАЯ ОБЛАСТЬ</td>\n",
       "      <td>25000.0</td>\n",
       "      <td>1.0</td>\n",
       "      <td>0.0</td>\n",
       "      <td>0.0</td>\n",
       "    </tr>\n",
       "  </tbody>\n",
       "</table>\n",
       "</div>"
      ],
      "text/plain": [
       "  gender  age marital_status job_position  credit_sum  credit_month tariff_id  \\\n",
       "0      M   48            MAR          UMN    59998.00            10       1.6   \n",
       "1      F   28            MAR          UMN    10889.00             6       1.1   \n",
       "2      M   32            MAR          SPC    10728.00            12       1.1   \n",
       "3      F   27            DIV          SPC    12009.09            12       1.1   \n",
       "4      M   45            MAR          SPC    16908.89            10       1.1   \n",
       "\n",
       "   score_shk education        living_region  monthly_income  credit_count  \\\n",
       "0   0.770249       GRD   КРАСНОДАРСКИЙ КРАЙ         30000.0           1.0   \n",
       "1   0.248514       GRD               МОСКВА         43000.0           2.0   \n",
       "2   0.459589       SCH      ОБЛ САРАТОВСКАЯ         23000.0           5.0   \n",
       "3   0.362536       GRD    ОБЛ ВОЛГОГРАДСКАЯ         17000.0           2.0   \n",
       "4   0.421385       SCH  ЧЕЛЯБИНСКАЯ ОБЛАСТЬ         25000.0           1.0   \n",
       "\n",
       "   overdue_credit_count  open_account_flg  \n",
       "0                   1.0               0.0  \n",
       "1                   0.0               0.0  \n",
       "2                   0.0               0.0  \n",
       "3                   0.0               0.0  \n",
       "4                   0.0               0.0  "
      ]
     },
     "execution_count": 18,
     "metadata": {},
     "output_type": "execute_result"
    }
   ],
   "source": [
    "train = pd.read_csv('credit_train.csv', encoding='cp1251', sep=';', decimal=',')\n",
    "test = pd.read_csv('credit_test.csv', encoding='cp1251', sep=';', decimal=',')\n",
    "\n",
    "test['open_account_flg'] = 0.5\n",
    "data = pd.concat([train, test])\n",
    "\n",
    "data.drop('client_id', 1, inplace=True)\n",
    "print (data.shape)\n",
    "data[:5]"
   ]
  },
  {
   "cell_type": "markdown",
   "metadata": {
    "collapsed": true
   },
   "source": [
    "## обрабатываем регионы"
   ]
  },
  {
   "cell_type": "code",
   "execution_count": null,
   "metadata": {
    "collapsed": true
   },
   "outputs": [],
   "source": [
    "# обработка поля регион\n",
    "def cleanregion(x):\n",
    "    x = x.replace('74', 'ЧЕЛЯБИНСКАЯ ОБЛАСТЬ')\n",
    "    x = x.replace('98', 'САНКТ-ПЕТЕРБУРГ')\n",
    "    x = x.replace('МОСКВА Г', 'МОСКВА')\n",
    "    x = x.replace('МОСКВОСКАЯ', 'МОСКОВСКАЯ')\n",
    "    x = x.replace('МЫТИЩИНСКИЙ', 'МОСКОВСКАЯ')\n",
    "    x = x.replace('СЕВ.', 'СЕВЕРНАЯ')\n",
    "    \n",
    "    words = ['ОКРУГ', 'Г ' , ' ', 'Р-Н', '-', 'Г.', '.', '(', ')', '/', '\\\\', 'АВТОНОМНАЯ', 'ОБЛАСТЬ', 'АОБЛ', 'ОБЛ', 'РЕСПУБЛИКА', 'РЕСП', '', 'АВТОНОМНЫЙ',\n",
    "             'КРАЙ', 'ЧУВАШИЯ', 'АЛАНИЯ', 'ЮГРА', 'АО', 'АO', 'ЯКУТИЯ']\n",
    "    for w in words:\n",
    "        x = x.replace(w, '')\n",
    "        \n",
    "    x = x.replace('ИЙ', 'АЯ')\n",
    "    x = x.replace('ГОРЬКОВСКАЯ', 'НИЖЕГОРОДСКАЯ')\n",
    "    x = x.replace('ГУСЬХРУСТАЛЬНЫЙ', 'ВЛАДИМИРСКАЯ')\n",
    "    x = x.replace('ДАЛЬНАЯВОСТОК', 'ХАБАРОВСКАЯ')\n",
    "    x = x.replace('ОДИНЦОВОМОСКОВСКАЯ', 'МОСКВА')\n",
    "    x = x.replace('ОРЁЛ', 'ОРЛОВСКАЯ')\n",
    "    x = x.replace('ПРИВОЛЖСКАЯФЕДЕРАЛЬНЫЙ', 'НИЖЕГОРОДСКАЯ')\n",
    "    x = x.replace('РОССИЯ', 'МОСКВА')\n",
    "    x = x.replace('ЭВЕНКАЯСКАЯ', 'КРАСНОЯРСКАЯ')\n",
    "    x = x.replace('КАМЧАТС??АЯ', 'КАМЧАТСКАЯ')\n",
    "    x = x.replace('МОСКОВСКАЯП', 'МОСКОВСКАЯ')\n",
    "    x = x.replace('ЧЕЛЯБИНСК', 'ЧЕЛЯБИНСКАЯ')\n",
    "    x = x.replace('ЧЕЛЯБИНСКАЯАЯ', 'ЧЕЛЯБИНСКАЯ')\n",
    "\n",
    "    return (x)\n",
    "\n",
    "# кодирование по мощности + шум\n",
    "def volumecode(data, name):\n",
    "    tmp = data.groupby(name)[name].count()\n",
    "    tmp += 0.001 * np.random.rand(tmp.shape[0])\n",
    "    return(data[name].map(tmp))\n",
    "\n",
    "# удаление мелких категорий\n",
    "def delsmallcats(data, name, th_small=100):\n",
    "    tmp = data[name].value_counts()\n",
    "    big_cats = tmp[tmp > th_small].index.tolist() # больше категории\n",
    "    data.loc[~data[name].isin(big_cats), name] = data[name].min() - 1 # заменить мелкие одной\n",
    "    return (data[name])"
   ]
  },
  {
   "cell_type": "markdown",
   "metadata": {},
   "source": [
    "### готовим признаки"
   ]
  },
  {
   "cell_type": "code",
   "execution_count": 4,
   "metadata": {
    "collapsed": true
   },
   "outputs": [],
   "source": [
    "# data['nan_count'] = data.isnull().sum(1) # число неизвестных значений\n",
    "data.gender = data.gender.map({'M': 1.0, 'F': 0.0}) # пол\n",
    "\n",
    "data['monthly_income_round'] = 0 + (np.round(data.monthly_income.values, -1) == data.monthly_income.values)\n",
    "data['monthly_income_round'] += (np.round(data.monthly_income.values, -2) == data.monthly_income.values)\n",
    "data['monthly_income_round'] += (np.round(data.monthly_income.values, -3) == data.monthly_income.values)\n",
    "data['monthly_income_round'] += (np.round(data.monthly_income.values, -4) == data.monthly_income.values)\n",
    "data['monthly_income_round'] += (np.round(data.monthly_income.values, -5) == data.monthly_income.values)\n",
    "\n",
    "data['credit_sum_round'] = 0 + (np.round(data.credit_sum.values, -1) == data.credit_sum.values)\n",
    "data['credit_sum_round'] += (np.round(data.credit_sum.values, -2) == data.credit_sum.values)\n",
    "data['credit_sum_round'] += (np.round(data.credit_sum.values, -3) == data.credit_sum.values)\n",
    "data['credit_sum_round'] += (np.round(data.credit_sum.values, -4) == data.credit_sum.values)\n",
    "\n",
    "data.credit_sum = np.log(data.credit_sum + 1.0) # приводим к колокольчику\n",
    "mean_credit_sum = data.credit_sum.mean()\n",
    "data.credit_sum.fillna(mean_credit_sum, inplace=True)\n",
    "\n",
    "data.monthly_income = np.log(data.monthly_income + 1.0) # приводим к колокольчику\n",
    "mean_monthly_income = data.monthly_income.mean()\n",
    "data.monthly_income.fillna(mean_monthly_income, inplace=True)\n",
    "\n",
    "data['delta_sums'] = data.credit_sum - data.monthly_income # разница кредита и дохода\n",
    "\n",
    "data.tariff_id = data.tariff_id.map(lambda x: float(x)).astype(float) # там почему-то строки\n",
    "\n",
    "data['tariff_id_factor'] = data.tariff_id\n",
    "data['credit_month_factor'] = data.credit_month\n",
    "data['living_region'].fillna('OTHER', inplace=True)\n",
    "data['old_region'] = data['living_region'] # volumecode(data, 'living_region')\n",
    "data['living_region'] = data['living_region'].astype(str).map(cleanregion)\n",
    "\n",
    "data['overdue_credit_count'].fillna(data['overdue_credit_count'].max() + 1, inplace=True)\n",
    "data['credit_count'].fillna(data['credit_count'].max() + 1, inplace=True)"
   ]
  },
  {
   "cell_type": "code",
   "execution_count": 5,
   "metadata": {
    "collapsed": false
   },
   "outputs": [
    {
     "data": {
      "text/html": [
       "<div>\n",
       "<table border=\"1\" class=\"dataframe\">\n",
       "  <thead>\n",
       "    <tr style=\"text-align: right;\">\n",
       "      <th></th>\n",
       "      <th>gender</th>\n",
       "      <th>age</th>\n",
       "      <th>marital_status</th>\n",
       "      <th>job_position</th>\n",
       "      <th>credit_sum</th>\n",
       "      <th>credit_month</th>\n",
       "      <th>tariff_id</th>\n",
       "      <th>score_shk</th>\n",
       "      <th>education</th>\n",
       "      <th>living_region</th>\n",
       "      <th>monthly_income</th>\n",
       "      <th>credit_count</th>\n",
       "      <th>overdue_credit_count</th>\n",
       "      <th>open_account_flg</th>\n",
       "      <th>monthly_income_round</th>\n",
       "      <th>credit_sum_round</th>\n",
       "      <th>delta_sums</th>\n",
       "      <th>tariff_id_factor</th>\n",
       "      <th>credit_month_factor</th>\n",
       "      <th>old_region</th>\n",
       "    </tr>\n",
       "  </thead>\n",
       "  <tbody>\n",
       "    <tr>\n",
       "      <th>0</th>\n",
       "      <td>1.0</td>\n",
       "      <td>48</td>\n",
       "      <td>MAR</td>\n",
       "      <td>UMN</td>\n",
       "      <td>11.002083</td>\n",
       "      <td>10</td>\n",
       "      <td>1.6</td>\n",
       "      <td>0.770249</td>\n",
       "      <td>GRD</td>\n",
       "      <td>КРАСНОДАРСКАЯ</td>\n",
       "      <td>10.308986</td>\n",
       "      <td>1.0</td>\n",
       "      <td>1.0</td>\n",
       "      <td>0.0</td>\n",
       "      <td>4</td>\n",
       "      <td>0</td>\n",
       "      <td>0.693097</td>\n",
       "      <td>1.6</td>\n",
       "      <td>10</td>\n",
       "      <td>КРАСНОДАРСКИЙ КРАЙ</td>\n",
       "    </tr>\n",
       "    <tr>\n",
       "      <th>1</th>\n",
       "      <td>0.0</td>\n",
       "      <td>28</td>\n",
       "      <td>MAR</td>\n",
       "      <td>UMN</td>\n",
       "      <td>9.295600</td>\n",
       "      <td>6</td>\n",
       "      <td>1.1</td>\n",
       "      <td>0.248514</td>\n",
       "      <td>GRD</td>\n",
       "      <td>МОСКВА</td>\n",
       "      <td>10.668979</td>\n",
       "      <td>2.0</td>\n",
       "      <td>0.0</td>\n",
       "      <td>0.0</td>\n",
       "      <td>3</td>\n",
       "      <td>0</td>\n",
       "      <td>-1.373378</td>\n",
       "      <td>1.1</td>\n",
       "      <td>6</td>\n",
       "      <td>МОСКВА</td>\n",
       "    </tr>\n",
       "    <tr>\n",
       "      <th>2</th>\n",
       "      <td>1.0</td>\n",
       "      <td>32</td>\n",
       "      <td>MAR</td>\n",
       "      <td>SPC</td>\n",
       "      <td>9.280706</td>\n",
       "      <td>12</td>\n",
       "      <td>1.1</td>\n",
       "      <td>0.459589</td>\n",
       "      <td>SCH</td>\n",
       "      <td>САРАТОВСКАЯ</td>\n",
       "      <td>10.043293</td>\n",
       "      <td>5.0</td>\n",
       "      <td>0.0</td>\n",
       "      <td>0.0</td>\n",
       "      <td>3</td>\n",
       "      <td>0</td>\n",
       "      <td>-0.762587</td>\n",
       "      <td>1.1</td>\n",
       "      <td>12</td>\n",
       "      <td>ОБЛ САРАТОВСКАЯ</td>\n",
       "    </tr>\n",
       "    <tr>\n",
       "      <th>3</th>\n",
       "      <td>0.0</td>\n",
       "      <td>27</td>\n",
       "      <td>DIV</td>\n",
       "      <td>SPC</td>\n",
       "      <td>9.393502</td>\n",
       "      <td>12</td>\n",
       "      <td>1.1</td>\n",
       "      <td>0.362536</td>\n",
       "      <td>GRD</td>\n",
       "      <td>ВОЛГОГРАДСКАЯ</td>\n",
       "      <td>9.741027</td>\n",
       "      <td>2.0</td>\n",
       "      <td>0.0</td>\n",
       "      <td>0.0</td>\n",
       "      <td>3</td>\n",
       "      <td>0</td>\n",
       "      <td>-0.347525</td>\n",
       "      <td>1.1</td>\n",
       "      <td>12</td>\n",
       "      <td>ОБЛ ВОЛГОГРАДСКАЯ</td>\n",
       "    </tr>\n",
       "    <tr>\n",
       "      <th>4</th>\n",
       "      <td>1.0</td>\n",
       "      <td>45</td>\n",
       "      <td>MAR</td>\n",
       "      <td>SPC</td>\n",
       "      <td>9.735654</td>\n",
       "      <td>10</td>\n",
       "      <td>1.1</td>\n",
       "      <td>0.421385</td>\n",
       "      <td>SCH</td>\n",
       "      <td>ЧЕЛЯБИНСКАЯ</td>\n",
       "      <td>10.126671</td>\n",
       "      <td>1.0</td>\n",
       "      <td>0.0</td>\n",
       "      <td>0.0</td>\n",
       "      <td>3</td>\n",
       "      <td>0</td>\n",
       "      <td>-0.391017</td>\n",
       "      <td>1.1</td>\n",
       "      <td>10</td>\n",
       "      <td>ЧЕЛЯБИНСКАЯ ОБЛАСТЬ</td>\n",
       "    </tr>\n",
       "  </tbody>\n",
       "</table>\n",
       "</div>"
      ],
      "text/plain": [
       "   gender  age marital_status job_position  credit_sum  credit_month  \\\n",
       "0     1.0   48            MAR          UMN   11.002083            10   \n",
       "1     0.0   28            MAR          UMN    9.295600             6   \n",
       "2     1.0   32            MAR          SPC    9.280706            12   \n",
       "3     0.0   27            DIV          SPC    9.393502            12   \n",
       "4     1.0   45            MAR          SPC    9.735654            10   \n",
       "\n",
       "   tariff_id  score_shk education  living_region  monthly_income  \\\n",
       "0        1.6   0.770249       GRD  КРАСНОДАРСКАЯ       10.308986   \n",
       "1        1.1   0.248514       GRD         МОСКВА       10.668979   \n",
       "2        1.1   0.459589       SCH    САРАТОВСКАЯ       10.043293   \n",
       "3        1.1   0.362536       GRD  ВОЛГОГРАДСКАЯ        9.741027   \n",
       "4        1.1   0.421385       SCH    ЧЕЛЯБИНСКАЯ       10.126671   \n",
       "\n",
       "   credit_count  overdue_credit_count  open_account_flg  monthly_income_round  \\\n",
       "0           1.0                   1.0               0.0                     4   \n",
       "1           2.0                   0.0               0.0                     3   \n",
       "2           5.0                   0.0               0.0                     3   \n",
       "3           2.0                   0.0               0.0                     3   \n",
       "4           1.0                   0.0               0.0                     3   \n",
       "\n",
       "   credit_sum_round  delta_sums  tariff_id_factor  credit_month_factor  \\\n",
       "0                 0    0.693097               1.6                   10   \n",
       "1                 0   -1.373378               1.1                    6   \n",
       "2                 0   -0.762587               1.1                   12   \n",
       "3                 0   -0.347525               1.1                   12   \n",
       "4                 0   -0.391017               1.1                   10   \n",
       "\n",
       "            old_region  \n",
       "0   КРАСНОДАРСКИЙ КРАЙ  \n",
       "1               МОСКВА  \n",
       "2      ОБЛ САРАТОВСКАЯ  \n",
       "3    ОБЛ ВОЛГОГРАДСКАЯ  \n",
       "4  ЧЕЛЯБИНСКАЯ ОБЛАСТЬ  "
      ]
     },
     "execution_count": 5,
     "metadata": {},
     "output_type": "execute_result"
    }
   ],
   "source": [
    "data[:5]"
   ]
  },
  {
   "cell_type": "code",
   "execution_count": 6,
   "metadata": {
    "collapsed": false
   },
   "outputs": [
    {
     "name": "stdout",
     "output_type": "stream",
     "text": [
      "marital_status 5 5\n",
      "job_position 18 18\n",
      "credit_month_factor 31 31\n",
      "tariff_id_factor 32 32\n",
      "education 5 5\n",
      "living_region 86 86\n",
      "old_region 318 318\n"
     ]
    }
   ],
   "source": [
    "catfeatures = ['marital_status', 'job_position',\n",
    "               'credit_month_factor', 'tariff_id_factor',\n",
    "               'education', 'living_region',\n",
    "               'old_region']\n",
    "\n",
    "for name in catfeatures:\n",
    "    data[name] = volumecode(data, name)\n",
    "    a = data[name].nunique()\n",
    "    # data[name] = delsmallcats(data, name)\n",
    "    print (name, a, data[name].nunique())"
   ]
  },
  {
   "cell_type": "code",
   "execution_count": 7,
   "metadata": {
    "collapsed": false
   },
   "outputs": [
    {
     "name": "stdout",
     "output_type": "stream",
     "text": [
      "marital_status job_position 81\n",
      "marital_status credit_month_factor 132\n",
      "marital_status tariff_id_factor 137\n",
      "marital_status education 25\n",
      "marital_status living_region 425\n",
      "marital_status old_region 1168\n",
      "marital_status gender 10\n",
      "job_position credit_month_factor 272\n",
      "job_position tariff_id_factor 272\n",
      "job_position education 74\n",
      "job_position living_region 1018\n",
      "job_position old_region 2061\n",
      "job_position gender 35\n",
      "credit_month_factor tariff_id_factor 252\n",
      "credit_month_factor education 118\n",
      "credit_month_factor living_region 1499\n",
      "credit_month_factor old_region 2897\n",
      "credit_month_factor gender 59\n",
      "tariff_id_factor education 122\n",
      "tariff_id_factor living_region 1368\n",
      "tariff_id_factor old_region 2698\n",
      "tariff_id_factor gender 63\n",
      "education living_region 373\n",
      "education old_region 975\n",
      "education gender 10\n",
      "living_region old_region 318\n",
      "living_region gender 172\n",
      "old_region gender 566\n"
     ]
    }
   ],
   "source": [
    "from itertools import combinations\n",
    "\n",
    "newcats = []\n",
    "\n",
    "for i, j in combinations(catfeatures + ['gender'], 2):\n",
    "    name = str(i) + ' + ' + str(j)\n",
    "    data[name] = data[i].astype(str) + '+' + data[j].astype(str)\n",
    "    data[name] = volumecode(data, name)\n",
    "    newcats.append(name)\n",
    "    print (i, j, data[name].nunique())"
   ]
  },
  {
   "cell_type": "markdown",
   "metadata": {
    "collapsed": false
   },
   "source": [
    "## данные для тестов"
   ]
  },
  {
   "cell_type": "code",
   "execution_count": 9,
   "metadata": {
    "collapsed": false
   },
   "outputs": [
    {
     "name": "stdout",
     "output_type": "stream",
     "text": [
      "(170746, 47) (170746,) (91940, 47) (91940,)\n"
     ]
    }
   ],
   "source": [
    "X = data[data.open_account_flg!=0.5]\n",
    "X2 = data[data.open_account_flg==0.5]\n",
    "y = X['open_account_flg']\n",
    "y2 = X2['open_account_flg']\n",
    "X.drop('open_account_flg', inplace=True, axis=1)\n",
    "X2.drop('open_account_flg', inplace=True, axis=1)\n",
    "print (X.shape, y.shape, X2.shape, y2.shape)\n",
    "# (170746, 46) (170746,) (91940, 46) (91940,)"
   ]
  },
  {
   "cell_type": "code",
   "execution_count": 10,
   "metadata": {
    "collapsed": false
   },
   "outputs": [
    {
     "name": "stdout",
     "output_type": "stream",
     "text": [
      "(136596, 47) (34150, 47) (136596,) (34150,)\n"
     ]
    }
   ],
   "source": [
    "from  sklearn.metrics import roc_auc_score\n",
    "from sklearn.ensemble import RandomForestRegressor\n",
    "from time import time\n",
    "import lightgbm as lgb\n",
    "from sklearn.model_selection import train_test_split\n",
    "train, test, y_train, y_test = train_test_split(X, y, test_size=0.2, random_state=42)\n",
    "print (train.shape, test.shape, y_train.shape, y_test.shape)"
   ]
  },
  {
   "cell_type": "code",
   "execution_count": null,
   "metadata": {
    "collapsed": true
   },
   "outputs": [],
   "source": []
  },
  {
   "cell_type": "code",
   "execution_count": 69,
   "metadata": {
    "collapsed": false
   },
   "outputs": [
    {
     "name": "stdout",
     "output_type": "stream",
     "text": [
      "0.77516317769\n"
     ]
    }
   ],
   "source": [
    "gbm = lgb.LGBMClassifier(objective='binary', colsample_bytree=0.5,\n",
    "                         learning_rate=0.06, max_bin=452,\n",
    "                         max_depth=5, min_child_samples=2,\n",
    "                         min_child_weight=25, min_split_gain=0.00,\n",
    "                         num_leaves=324, reg_alpha=0.01, reg_lambda=0.00,\n",
    "                         subsample=0.9, subsample_for_bin=15069, subsample_freq=0,\n",
    "                         n_estimators=200)\n",
    "\n",
    "gbm.fit(train, y_train, categorical_feature=catfeatures) # , eval_set=[(test, y_test)], eval_metric='auc', early_stopping_rounds=5)\n",
    "a_gbm = gbm.predict_proba(test)[:, 1]\n",
    "print (roc_auc_score(y_test, a_gbm))\n",
    "# всё - ohe - 0.774861037007\n",
    "# 0.777343251116\n",
    "# 0.7741 0.7768\n",
    "\n",
    "\n",
    "#0.772458858042"
   ]
  },
  {
   "cell_type": "code",
   "execution_count": 14,
   "metadata": {
    "collapsed": false
   },
   "outputs": [
    {
     "name": "stdout",
     "output_type": "stream",
     "text": [
      "0.776537235013\n"
     ]
    },
    {
     "data": {
      "image/png": "[encoded data removed]",
      "text/plain": [
       "<matplotlib.figure.Figure at 0x7fec8d377c88>"
      ]
     },
     "metadata": {},
     "output_type": "display_data"
    }
   ],
   "source": [
    "import lightgbm as lgb\n",
    "\n",
    "name = 'learning_rate'\n",
    "lspace = np.linspace(0.01, 0.2, 10) # np.round(np.linspace(1, 100, 20)).astype(int) #  # np.round(np.linspace(10, 100000, 20)).astype(int) # np.linspace(0.1, 1.0, 20) #np.linspace(0.0, 10.0, 20) #np.round(np.linspace(2, 500, 20)).astype(int) # np.linspace(0.0, 0.1, 20) #np.round(np.arange(10) + 1).astype(int) # np.linspace(1, 500, 20)\n",
    "\n",
    "params = {'learning_rate': 0.15,\n",
    "          'max_depth': 5,\n",
    "          'n_estimators': 200\n",
    "         }\n",
    "\n",
    "\n",
    "\n",
    "e_train = []\n",
    "e_test = []\n",
    "\n",
    "for x in lspace:\n",
    "    params[name] = x\n",
    "    gbm = lgb.LGBMClassifier(objective='binary',\n",
    "                             learning_rate=params['learning_rate'],\n",
    "                             max_depth=params['max_depth'],\n",
    "                             n_estimators=params['n_estimators'])\n",
    "    gbm.fit(train, y_train, categorical_feature=catfeatures)\n",
    "    a1_gbm = gbm.predict_proba(train)[:, 1]\n",
    "    a2_gbm = gbm.predict_proba(test)[:, 1]\n",
    "    e_train.append(roc_auc_score(y_train, a1_gbm))\n",
    "    e_test.append(roc_auc_score(y_test, a2_gbm))\n",
    "    \n",
    "figsize(12, 4)\n",
    "plt.plot(lspace, e_train, c='#000099', label='train', lw=2)\n",
    "plt.plot(lspace, e_test, c='#009900', label='test', lw=2)\n",
    "plt.xlabel(name)\n",
    "plt.ylabel('AUC ROC')\n",
    "plt.legend(loc='best')\n",
    "#plt.xlim([-1, 10])\n",
    "#plt.ylim([0.75, 0.85])\n",
    "print(max(e_test))    "
   ]
  },
  {
   "cell_type": "code",
   "execution_count": 11,
   "metadata": {
    "collapsed": false
   },
   "outputs": [
    {
     "name": "stdout",
     "output_type": "stream",
     "text": [
      "depth=3, auc=0.773, time=  8.9\n",
      "depth=5, auc=0.776, time=   11\n",
      "depth=7, auc=0.776, time=   12\n"
     ]
    },
    {
     "data": {
      "text/plain": [
       "<matplotlib.legend.Legend at 0x7f5860e7f8d0>"
      ]
     },
     "execution_count": 11,
     "metadata": {},
     "output_type": "execute_result"
    },
    {
     "data": {
      "image/png": "[encoded data removed]",
      "text/plain": [
       "<matplotlib.figure.Figure at 0x7f5860e7f898>"
      ]
     },
     "metadata": {},
     "output_type": "display_data"
    }
   ],
   "source": [
    "import lightgbm as lgb\n",
    "\n",
    "figsize(12, 4)\n",
    "\n",
    "name = 'learning_rate'\n",
    "lspace = np.linspace(0.1, 0.3, 10) # np.round(np.linspace(1, 100, 20)).astype(int) #  # np.round(np.linspace(10, 100000, 20)).astype(int) # np.linspace(0.1, 1.0, 20) #np.linspace(0.0, 10.0, 20) #np.round(np.linspace(2, 500, 20)).astype(int) # np.linspace(0.0, 0.1, 20) #np.round(np.arange(10) + 1).astype(int) # np.linspace(1, 500, 20)\n",
    "\n",
    "for d in [3, 5, 7]:\n",
    "    e_test = []\n",
    "    tm = time()\n",
    "    for lr in lspace:\n",
    "        gbm = lgb.LGBMClassifier(objective='binary',\n",
    "                                 learning_rate=lr,\n",
    "                                 max_depth=d,\n",
    "                                 n_estimators=100)\n",
    "        \n",
    "        gbm.fit(train, y_train, categorical_feature=['living_region']) # , categorical_feature=catfeatures newcats catfeatures\n",
    "        \n",
    "        a2_gbm = gbm.predict_proba(test)[:, 1]\n",
    "        \n",
    "        e = roc_auc_score(y_test, a2_gbm)\n",
    "        e_test.append(e)\n",
    "    \n",
    "    print ('depth=%g, auc=%2.3g, time=%5.2g' % (d, max(e_test), time()-tm) )\n",
    "    \n",
    "    plt.plot(lspace, e_test, label='d='+str(d), lw=2) #c='#009900', \n",
    "\n",
    "plt.xlabel(name)\n",
    "plt.ylabel('AUC ROC')\n",
    "plt.legend(loc='best')"
   ]
  },
  {
   "cell_type": "code",
   "execution_count": null,
   "metadata": {
    "collapsed": false
   },
   "outputs": [],
   "source": [
    "\n",
    "depth=3, auc=0.771, time=    5\n",
    "depth=5, auc=0.776, time=    6\n",
    "depth=7, auc=0.776, time=    7\n",
    "\n",
    "# depth=3, auc=0.773, time=  4.8\n",
    "# depth=5, auc=0.775, time=  5.7\n",
    "# depth=7, auc=0.776, time=  6.5\n",
    "\n",
    "depth=3, auc=0.774, time=  8.9\n",
    "depth=5, auc=0.777, time=   10\n",
    "depth=7, auc=0.778, time=   12\n",
    "\n",
    "depth=3, auc=0.774, time=    9\n",
    "depth=5, auc=0.776, time=  9.9\n",
    "depth=7, auc=0.777, time=   15\n"
   ]
  },
  {
   "cell_type": "code",
   "execution_count": 12,
   "metadata": {
    "collapsed": false
   },
   "outputs": [],
   "source": [
    "cat_tmp = catfeatures + newcats"
   ]
  },
  {
   "cell_type": "code",
   "execution_count": 15,
   "metadata": {
    "collapsed": false
   },
   "outputs": [
    {
     "name": "stdout",
     "output_type": "stream",
     "text": [
      "depth=2, auc=0.771, time=  7.8\n",
      "depth=3, auc=0.774, time=  8.2\n"
     ]
    },
    {
     "data": {
      "text/plain": [
       "<matplotlib.legend.Legend at 0x7f586131fe80>"
      ]
     },
     "execution_count": 15,
     "metadata": {},
     "output_type": "execute_result"
    },
    {
     "data": {
      "image/png": "[encoded data removed]",
      "text/plain": [
       "<matplotlib.figure.Figure at 0x7f5861310518>"
      ]
     },
     "metadata": {},
     "output_type": "display_data"
    }
   ],
   "source": [
    "import lightgbm as lgb\n",
    "\n",
    "figsize(12, 4)\n",
    "\n",
    "name = 'learning_rate'\n",
    "lspace = np.linspace(0.3, 0.6, 10) # np.round(np.linspace(1, 100, 20)).astype(int) #  # np.round(np.linspace(10, 100000, 20)).astype(int) # np.linspace(0.1, 1.0, 20) #np.linspace(0.0, 10.0, 20) #np.round(np.linspace(2, 500, 20)).astype(int) # np.linspace(0.0, 0.1, 20) #np.round(np.arange(10) + 1).astype(int) # np.linspace(1, 500, 20)\n",
    "\n",
    "for d in [2, 3]:\n",
    "    e_test = []\n",
    "    tm = time()\n",
    "    for lr in lspace:\n",
    "        gbm = lgb.LGBMClassifier(objective='binary',\n",
    "                                 learning_rate=lr,\n",
    "                                 max_depth=d,\n",
    "                                 n_estimators=100)\n",
    "        \n",
    "        gbm.fit(train, y_train, categorical_feature=['living_region']) # , categorical_feature=catfeatures newcats catfeatures\n",
    "        \n",
    "        a2_gbm = gbm.predict_proba(test)[:, 1]\n",
    "        \n",
    "        e = roc_auc_score(y_test, a2_gbm)\n",
    "        e_test.append(e)\n",
    "    \n",
    "    print ('depth=%g, auc=%2.3g, time=%5.2g' % (d, max(e_test), time()-tm) )\n",
    "    \n",
    "    plt.plot(lspace, e_test, label='d='+str(d), lw=2) #c='#009900', \n",
    "\n",
    "plt.xlabel(name)\n",
    "plt.ylabel('AUC ROC')\n",
    "plt.legend(loc='best')"
   ]
  },
  {
   "cell_type": "code",
   "execution_count": 22,
   "metadata": {
    "collapsed": false
   },
   "outputs": [
    {
     "data": {
      "text/plain": [
       "array([ 0.8305046 ,  0.82741233,  0.82904031])"
      ]
     },
     "execution_count": 22,
     "metadata": {},
     "output_type": "execute_result"
    }
   ],
   "source": [
    "from sklearn.model_selection import cross_val_score\n",
    "cross_val_score(gbm, X, y, cv=3, n_jobs=-1)"
   ]
  },
  {
   "cell_type": "code",
   "execution_count": null,
   "metadata": {
    "collapsed": false
   },
   "outputs": [],
   "source": []
  },
  {
   "cell_type": "code",
   "execution_count": null,
   "metadata": {
    "collapsed": true
   },
   "outputs": [],
   "source": []
  }
 ],
 "metadata": {
  "kernelspec": {
   "display_name": "Python [default]",
   "language": "python",
   "name": "python3"
  },
  "language_info": {
   "codemirror_mode": {
    "name": "ipython",
    "version": 3
   },
   "file_extension": ".py",
   "mimetype": "text/x-python",
   "name": "python",
   "nbconvert_exporter": "python",
   "pygments_lexer": "ipython3",
   "version": "3.5.2"
  }
 },
 "nbformat": 4,
 "nbformat_minor": 2
}
